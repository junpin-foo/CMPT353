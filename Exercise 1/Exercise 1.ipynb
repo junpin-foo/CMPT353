{
 "cells": [
  {
   "cell_type": "code",
   "execution_count": 2,
   "id": "8d05af4c",
   "metadata": {},
   "outputs": [],
   "source": [
    "import numpy as np\n",
    "import pandas as pd"
   ]
  },
  {
   "cell_type": "code",
   "execution_count": 3,
   "id": "f24e6efb",
   "metadata": {},
   "outputs": [
    {
     "name": "stdout",
     "output_type": "stream",
     "text": [
      "['totals', 'counts']\n",
      "[[1809 1482 2159  374  606  428  442   68  956 1429 1349 1846]\n",
      " [ 121   22   46   40  683  616 2061  834  253  276   27  224]\n",
      " [ 896 1232  992 1106 1236 1015 1264 1096 1026 2422 1184 1099]\n",
      " [1491 1473 1452 1595 1001  725  734  445  845 2185 1305 1835]\n",
      " [ 930  561  533  204  546  748  662  274  785 1620 1293  295]\n",
      " [ 183  982  621  471  667  671  525 1599  433 1176  594  627]\n",
      " [ 363  491  729  681  346  269  399  667  663  452  497  821]\n",
      " [1682 1304 1616  242  516  582  328  138  784 2034 2402 1520]\n",
      " [ 220   90   28  120   98  306  154  280  488  158  176  116]]\n",
      "[[30 22 30 30 21 21 20 25 20 19 17 16]\n",
      " [31 29 31 30 31 30 31 30 30 30 30 30]\n",
      " [31 29 31 30 30 30 31 31 30 31 30 31]\n",
      " [31 29 31 30 31 30 31 31 29 30 30 31]\n",
      " [31 29 31 29 31 29 30 31 30 31 30 29]\n",
      " [31 29 31 30 31 30 28 31 30 30 29 31]\n",
      " [31 28 31 30 31 30 31 31 30 31 29 31]\n",
      " [30 28 31 30 30 29 30 31 30 31 30 30]\n",
      " [31 28 31 30 31 30 31 31 30 30 30 30]]\n"
     ]
    }
   ],
   "source": [
    "data = np.load('monthdata.npz')\n",
    "totals = data['totals']\n",
    "counts = data['counts']\n",
    "print(data.files)\n",
    "print(totals)\n",
    "print(counts)\n"
   ]
  },
  {
   "cell_type": "code",
   "execution_count": 21,
   "id": "b216b9ce",
   "metadata": {},
   "outputs": [
    {
     "data": {
      "text/plain": [
       "array([12948,  5203, 14568, 15086,  8451,  8549,  6378, 13148,  2234],\n",
       "      dtype=int64)"
      ]
     },
     "execution_count": 21,
     "metadata": {},
     "output_type": "execute_result"
    }
   ],
   "source": [
    "np.sum(totals, axis = 1)"
   ]
  },
  {
   "cell_type": "markdown",
   "id": "4a18f77a",
   "metadata": {},
   "source": [
    "# the 9th city has the lowest total precipitation over the year at 2234"
   ]
  },
  {
   "cell_type": "code",
   "execution_count": 4,
   "id": "ef346f2e",
   "metadata": {},
   "outputs": [
    {
     "data": {
      "text/plain": [
       "8"
      ]
     },
     "execution_count": 4,
     "metadata": {},
     "output_type": "execute_result"
    }
   ],
   "source": [
    "np.argmin(np.sum(totals, axis = 1))"
   ]
  },
  {
   "cell_type": "markdown",
   "id": "afb1d038",
   "metadata": {},
   "source": [
    "# index 8 or the 9th row"
   ]
  },
  {
   "cell_type": "code",
   "execution_count": 13,
   "id": "55ed26ed",
   "metadata": {},
   "outputs": [
    {
     "data": {
      "text/plain": [
       "array([27.77978339, 30.42629482, 29.41007194, 17.96654275, 21.34456929,\n",
       "       20.69498069, 24.97718631, 19.85661765, 24.06563707, 44.68441065,\n",
       "       34.61568627, 32.36679537])"
      ]
     },
     "execution_count": 13,
     "metadata": {},
     "output_type": "execute_result"
    }
   ],
   "source": [
    "np.sum(totals, axis = 0) / np.sum(counts, axis = 0)"
   ]
  },
  {
   "cell_type": "code",
   "execution_count": 44,
   "id": "aa63a114",
   "metadata": {},
   "outputs": [
    {
     "name": "stdout",
     "output_type": "stream",
     "text": [
      "[47.77859779 14.33333333 39.91232877 41.44505495 23.4099723  23.68144044\n",
      " 17.52197802 36.52222222  6.15426997]\n"
     ]
    }
   ],
   "source": [
    "temp = np.sum(totals, axis = 1) / np.sum(counts, axis = 1)\n",
    "print(temp)\n"
   ]
  },
  {
   "cell_type": "code",
   "execution_count": 29,
   "id": "525d0e81",
   "metadata": {},
   "outputs": [],
   "source": [
    "quaterly = np.reshape(totals, (36, 3))"
   ]
  },
  {
   "cell_type": "code",
   "execution_count": 32,
   "id": "37cc54b7",
   "metadata": {},
   "outputs": [],
   "source": [
    "sumQuaterly = np.sum(quaterly, axis = 1)"
   ]
  },
  {
   "cell_type": "code",
   "execution_count": 33,
   "id": "43460f81",
   "metadata": {},
   "outputs": [
    {
     "data": {
      "text/plain": [
       "array([[5450, 1408, 1466, 4624],\n",
       "       [ 189, 1339, 3148,  527],\n",
       "       [3120, 3357, 3386, 4705],\n",
       "       [4416, 3321, 2024, 5325],\n",
       "       [2024, 1498, 1721, 3208],\n",
       "       [1786, 1809, 2557, 2397],\n",
       "       [1583, 1296, 1729, 1770],\n",
       "       [4602, 1340, 1250, 5956],\n",
       "       [ 338,  524,  922,  450]], dtype=int64)"
      ]
     },
     "execution_count": 33,
     "metadata": {},
     "output_type": "execute_result"
    }
   ],
   "source": [
    "np.reshape(sumQuaterly, (9,4))"
   ]
  },
  {
   "cell_type": "code",
   "execution_count": 5,
   "id": "53ec70e9",
   "metadata": {},
   "outputs": [
    {
     "name": "stdout",
     "output_type": "stream",
     "text": [
      "                                2016-01  2016-02  2016-03  2016-04  2016-05  \\\n",
      "name                                                                          \n",
      "BURNABY SIMON FRASER U             1809     1482     2159      374      606   \n",
      "CALGARY INTL A                      121       22       46       40      683   \n",
      "GANDER INTL A                       896     1232      992     1106     1236   \n",
      "HALIFAX INTL A                     1491     1473     1452     1595     1001   \n",
      "REVELSTOKE                          930      561      533      204      546   \n",
      "SHERBROOKE                          183      982      621      471      667   \n",
      "TORONTO LESTER B. PEARSON INT'      363      491      729      681      346   \n",
      "VANCOUVER INTL A                   1682     1304     1616      242      516   \n",
      "YELLOWKNIFE A                       220       90       28      120       98   \n",
      "\n",
      "                                2016-06  2016-07  2016-08  2016-09  2016-10  \\\n",
      "name                                                                          \n",
      "BURNABY SIMON FRASER U              428      442       68      956     1429   \n",
      "CALGARY INTL A                      616     2061      834      253      276   \n",
      "GANDER INTL A                      1015     1264     1096     1026     2422   \n",
      "HALIFAX INTL A                      725      734      445      845     2185   \n",
      "REVELSTOKE                          748      662      274      785     1620   \n",
      "SHERBROOKE                          671      525     1599      433     1176   \n",
      "TORONTO LESTER B. PEARSON INT'      269      399      667      663      452   \n",
      "VANCOUVER INTL A                    582      328      138      784     2034   \n",
      "YELLOWKNIFE A                       306      154      280      488      158   \n",
      "\n",
      "                                2016-11  2016-12  \n",
      "name                                              \n",
      "BURNABY SIMON FRASER U             1349     1846  \n",
      "CALGARY INTL A                       27      224  \n",
      "GANDER INTL A                      1184     1099  \n",
      "HALIFAX INTL A                     1305     1835  \n",
      "REVELSTOKE                         1293      295  \n",
      "SHERBROOKE                          594      627  \n",
      "TORONTO LESTER B. PEARSON INT'      497      821  \n",
      "VANCOUVER INTL A                   2402     1520  \n",
      "YELLOWKNIFE A                       176      116  \n"
     ]
    }
   ],
   "source": [
    "totals = pd.read_csv('totals.csv').set_index(keys=['name'])\n",
    "print(totals)"
   ]
  },
  {
   "cell_type": "code",
   "execution_count": null,
   "id": "f4a6de6a",
   "metadata": {},
   "outputs": [],
   "source": []
  }
 ],
 "metadata": {
  "kernelspec": {
   "display_name": "Python 3 (ipykernel)",
   "language": "python",
   "name": "python3"
  },
  "language_info": {
   "codemirror_mode": {
    "name": "ipython",
    "version": 3
   },
   "file_extension": ".py",
   "mimetype": "text/x-python",
   "name": "python",
   "nbconvert_exporter": "python",
   "pygments_lexer": "ipython3",
   "version": "3.9.7"
  }
 },
 "nbformat": 4,
 "nbformat_minor": 5
}
