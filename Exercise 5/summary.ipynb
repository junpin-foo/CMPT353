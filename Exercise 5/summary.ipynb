{
 "cells": [
  {
   "cell_type": "code",
   "execution_count": 1,
   "metadata": {},
   "outputs": [],
   "source": [
    "import numpy as np\n",
    "import pandas as pd\n",
    "import sys\n",
    "from scipy import stats"
   ]
  },
  {
   "cell_type": "code",
   "execution_count": 2,
   "metadata": {},
   "outputs": [
    {
     "name": "stdout",
     "output_type": "stream",
     "text": [
      "x mean is:  7.2161551796099195\n",
      "y mean is:  7.6022150282372944\n"
     ]
    }
   ],
   "source": [
    "filename1 = sys.argv[1]\n",
    "data = pd.read_csv('data-6.csv')\n",
    "print(\"x mean is: \" , data.mean().x)\n",
    "print(\"y mean is: \" , data.mean().y)"
   ]
  },
  {
   "cell_type": "code",
   "execution_count": 3,
   "metadata": {},
   "outputs": [
    {
     "name": "stdout",
     "output_type": "stream",
     "text": [
      "x std is:  11.921599067458313\n",
      "y std is:  11.764382455006647\n"
     ]
    }
   ],
   "source": [
    "print(\"x std is: \" , data.std().x)\n",
    "print(\"y std is: \" , data.std().y)"
   ]
  },
  {
   "cell_type": "code",
   "execution_count": 4,
   "metadata": {},
   "outputs": [
    {
     "name": "stdout",
     "output_type": "stream",
     "text": [
      "range of x is:  59.735959663269966\n",
      "range of y is:  59.03623102785603\n"
     ]
    }
   ],
   "source": [
    "print(\"range of x is: \" , data.max().x - data.min().x)\n",
    "print(\"range of y is: \" , data.max().y - data.min().y)"
   ]
  },
  {
   "cell_type": "code",
   "execution_count": 5,
   "metadata": {},
   "outputs": [
    {
     "name": "stdout",
     "output_type": "stream",
     "text": [
      "r between x and y is :  0.9350685662094907\n"
     ]
    }
   ],
   "source": [
    "reg = stats.linregress(data['x'], data['y'])\n",
    "print(\"r between x and y is : \" , reg.rvalue)"
   ]
  },
  {
   "cell_type": "markdown",
   "metadata": {},
   "source": [
    "The average of x is 8.71 and average of y is 12.52. The standard deviation of x is 12.16 while y is 6.64. The range of x is 57.87 while y has a range of 29.95. X and Y has a r value of 0.9503 which is a strong and positive correlation."
   ]
  }
 ],
 "metadata": {
  "kernelspec": {
   "display_name": "Python 3 (ipykernel)",
   "language": "python",
   "name": "python3"
  },
  "language_info": {
   "codemirror_mode": {
    "name": "ipython",
    "version": 3
   },
   "file_extension": ".py",
   "mimetype": "text/x-python",
   "name": "python",
   "nbconvert_exporter": "python",
   "pygments_lexer": "ipython3",
   "version": "3.9.7"
  }
 },
 "nbformat": 4,
 "nbformat_minor": 2
}
